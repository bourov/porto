{
 "cells": [
  {
   "cell_type": "code",
   "execution_count": 2,
   "id": "78ff0e08-b107-435d-90eb-6994cc0b8a63",
   "metadata": {},
   "outputs": [],
   "source": [
    "import yfinance as yf"
   ]
  },
  {
   "cell_type": "code",
   "execution_count": 3,
   "id": "e9fe777a-f8e8-46fd-b699-95fe6f17cbfe",
   "metadata": {},
   "outputs": [],
   "source": [
    "import pandas as pd"
   ]
  },
  {
   "cell_type": "code",
   "execution_count": 4,
   "id": "73fe6871-9150-40a7-8419-8ee0b74d4653",
   "metadata": {},
   "outputs": [],
   "source": [
    "from pypfopt.efficient_frontier import EfficientFrontier\n",
    "from  pypfopt import expected_returns, risk_models"
   ]
  },
  {
   "cell_type": "code",
   "execution_count": 19,
   "id": "51aa8ac7-37f3-4dcc-ada2-cb201da82238",
   "metadata": {},
   "outputs": [],
   "source": [
    "from pypfopt import plotting"
   ]
  },
  {
   "cell_type": "code",
   "execution_count": 23,
   "id": "a8247d15-2432-49fb-bdcf-0df06d8f03a6",
   "metadata": {},
   "outputs": [],
   "source": [
    "from warnings import simplefilter\n",
    "simplefilter(action='ignore', category=FutureWarning)"
   ]
  },
  {
   "cell_type": "code",
   "execution_count": 5,
   "id": "0e176a1f-30c2-4601-9752-7603accdb079",
   "metadata": {},
   "outputs": [],
   "source": [
    "sp500 = pd.read_html('http://en.wikipedia.org/wiki/List_of_S%26P_500_companies')[0]['Symbol']"
   ]
  },
  {
   "cell_type": "code",
   "execution_count": 6,
   "id": "92fb24b2-c2ae-46e5-8467-b2c3f4a34b14",
   "metadata": {
    "scrolled": true
   },
   "outputs": [
    {
     "data": {
      "text/plain": [
       "['MMM',\n",
       " 'AOS',\n",
       " 'ABT',\n",
       " 'ABBV',\n",
       " 'ACN',\n",
       " 'ADBE',\n",
       " 'AMD',\n",
       " 'AES',\n",
       " 'AFL',\n",
       " 'A',\n",
       " 'APD',\n",
       " 'ABNB',\n",
       " 'AKAM',\n",
       " 'ALB',\n",
       " 'ARE',\n",
       " 'ALGN',\n",
       " 'ALLE',\n",
       " 'LNT',\n",
       " 'ALL',\n",
       " 'GOOGL',\n",
       " 'GOOG',\n",
       " 'MO',\n",
       " 'AMZN',\n",
       " 'AMCR',\n",
       " 'AEE',\n",
       " 'AAL',\n",
       " 'AEP',\n",
       " 'AXP',\n",
       " 'AIG',\n",
       " 'AMT',\n",
       " 'AWK',\n",
       " 'AMP',\n",
       " 'AME',\n",
       " 'AMGN',\n",
       " 'APH',\n",
       " 'ADI',\n",
       " 'ANSS',\n",
       " 'AON',\n",
       " 'APA',\n",
       " 'AAPL',\n",
       " 'AMAT',\n",
       " 'APTV',\n",
       " 'ACGL',\n",
       " 'ADM',\n",
       " 'ANET',\n",
       " 'AJG',\n",
       " 'AIZ',\n",
       " 'T',\n",
       " 'ATO',\n",
       " 'ADSK',\n",
       " 'ADP',\n",
       " 'AZO',\n",
       " 'AVB',\n",
       " 'AVY',\n",
       " 'AXON',\n",
       " 'BKR',\n",
       " 'BALL',\n",
       " 'BAC',\n",
       " 'BK',\n",
       " 'BBWI',\n",
       " 'BAX',\n",
       " 'BDX',\n",
       " 'BRK.B',\n",
       " 'BBY',\n",
       " 'BIO',\n",
       " 'TECH',\n",
       " 'BIIB',\n",
       " 'BLK',\n",
       " 'BX',\n",
       " 'BA',\n",
       " 'BKNG',\n",
       " 'BWA',\n",
       " 'BXP',\n",
       " 'BSX',\n",
       " 'BMY',\n",
       " 'AVGO',\n",
       " 'BR',\n",
       " 'BRO',\n",
       " 'BF.B',\n",
       " 'BLDR',\n",
       " 'BG',\n",
       " 'CDNS',\n",
       " 'CZR',\n",
       " 'CPT',\n",
       " 'CPB',\n",
       " 'COF',\n",
       " 'CAH',\n",
       " 'KMX',\n",
       " 'CCL',\n",
       " 'CARR',\n",
       " 'CTLT',\n",
       " 'CAT',\n",
       " 'CBOE',\n",
       " 'CBRE',\n",
       " 'CDW',\n",
       " 'CE',\n",
       " 'COR',\n",
       " 'CNC',\n",
       " 'CNP',\n",
       " 'CF',\n",
       " 'CHRW',\n",
       " 'CRL',\n",
       " 'SCHW',\n",
       " 'CHTR',\n",
       " 'CVX',\n",
       " 'CMG',\n",
       " 'CB',\n",
       " 'CHD',\n",
       " 'CI',\n",
       " 'CINF',\n",
       " 'CTAS',\n",
       " 'CSCO',\n",
       " 'C',\n",
       " 'CFG',\n",
       " 'CLX',\n",
       " 'CME',\n",
       " 'CMS',\n",
       " 'KO',\n",
       " 'CTSH',\n",
       " 'CL',\n",
       " 'CMCSA',\n",
       " 'CMA',\n",
       " 'CAG',\n",
       " 'COP',\n",
       " 'ED',\n",
       " 'STZ',\n",
       " 'CEG',\n",
       " 'COO',\n",
       " 'CPRT',\n",
       " 'GLW',\n",
       " 'CPAY',\n",
       " 'CTVA',\n",
       " 'CSGP',\n",
       " 'COST',\n",
       " 'CTRA',\n",
       " 'CCI',\n",
       " 'CSX',\n",
       " 'CMI',\n",
       " 'CVS',\n",
       " 'DHR',\n",
       " 'DRI',\n",
       " 'DVA',\n",
       " 'DAY',\n",
       " 'DECK',\n",
       " 'DE',\n",
       " 'DAL',\n",
       " 'XRAY',\n",
       " 'DVN',\n",
       " 'DXCM',\n",
       " 'FANG',\n",
       " 'DLR',\n",
       " 'DFS',\n",
       " 'DG',\n",
       " 'DLTR',\n",
       " 'D',\n",
       " 'DPZ',\n",
       " 'DOV',\n",
       " 'DOW',\n",
       " 'DHI',\n",
       " 'DTE',\n",
       " 'DUK',\n",
       " 'DD',\n",
       " 'EMN',\n",
       " 'ETN',\n",
       " 'EBAY',\n",
       " 'ECL',\n",
       " 'EIX',\n",
       " 'EW',\n",
       " 'EA',\n",
       " 'ELV',\n",
       " 'LLY',\n",
       " 'EMR',\n",
       " 'ENPH',\n",
       " 'ETR',\n",
       " 'EOG',\n",
       " 'EPAM',\n",
       " 'EQT',\n",
       " 'EFX',\n",
       " 'EQIX',\n",
       " 'EQR',\n",
       " 'ESS',\n",
       " 'EL',\n",
       " 'ETSY',\n",
       " 'EG',\n",
       " 'EVRG',\n",
       " 'ES',\n",
       " 'EXC',\n",
       " 'EXPE',\n",
       " 'EXPD',\n",
       " 'EXR',\n",
       " 'XOM',\n",
       " 'FFIV',\n",
       " 'FDS',\n",
       " 'FICO',\n",
       " 'FAST',\n",
       " 'FRT',\n",
       " 'FDX',\n",
       " 'FIS',\n",
       " 'FITB',\n",
       " 'FSLR',\n",
       " 'FE',\n",
       " 'FI',\n",
       " 'FMC',\n",
       " 'F',\n",
       " 'FTNT',\n",
       " 'FTV',\n",
       " 'FOXA',\n",
       " 'FOX',\n",
       " 'BEN',\n",
       " 'FCX',\n",
       " 'GRMN',\n",
       " 'IT',\n",
       " 'GEHC',\n",
       " 'GEN',\n",
       " 'GNRC',\n",
       " 'GD',\n",
       " 'GE',\n",
       " 'GIS',\n",
       " 'GM',\n",
       " 'GPC',\n",
       " 'GILD',\n",
       " 'GPN',\n",
       " 'GL',\n",
       " 'GS',\n",
       " 'HAL',\n",
       " 'HIG',\n",
       " 'HAS',\n",
       " 'HCA',\n",
       " 'DOC',\n",
       " 'HSIC',\n",
       " 'HSY',\n",
       " 'HES',\n",
       " 'HPE',\n",
       " 'HLT',\n",
       " 'HOLX',\n",
       " 'HD',\n",
       " 'HON',\n",
       " 'HRL',\n",
       " 'HST',\n",
       " 'HWM',\n",
       " 'HPQ',\n",
       " 'HUBB',\n",
       " 'HUM',\n",
       " 'HBAN',\n",
       " 'HII',\n",
       " 'IBM',\n",
       " 'IEX',\n",
       " 'IDXX',\n",
       " 'ITW',\n",
       " 'ILMN',\n",
       " 'INCY',\n",
       " 'IR',\n",
       " 'PODD',\n",
       " 'INTC',\n",
       " 'ICE',\n",
       " 'IFF',\n",
       " 'IP',\n",
       " 'IPG',\n",
       " 'INTU',\n",
       " 'ISRG',\n",
       " 'IVZ',\n",
       " 'INVH',\n",
       " 'IQV',\n",
       " 'IRM',\n",
       " 'JBHT',\n",
       " 'JBL',\n",
       " 'JKHY',\n",
       " 'J',\n",
       " 'JNJ',\n",
       " 'JCI',\n",
       " 'JPM',\n",
       " 'JNPR',\n",
       " 'K',\n",
       " 'KVUE',\n",
       " 'KDP',\n",
       " 'KEY',\n",
       " 'KEYS',\n",
       " 'KMB',\n",
       " 'KIM',\n",
       " 'KMI',\n",
       " 'KLAC',\n",
       " 'KHC',\n",
       " 'KR',\n",
       " 'LHX',\n",
       " 'LH',\n",
       " 'LRCX',\n",
       " 'LW',\n",
       " 'LVS',\n",
       " 'LDOS',\n",
       " 'LEN',\n",
       " 'LIN',\n",
       " 'LYV',\n",
       " 'LKQ',\n",
       " 'LMT',\n",
       " 'L',\n",
       " 'LOW',\n",
       " 'LULU',\n",
       " 'LYB',\n",
       " 'MTB',\n",
       " 'MRO',\n",
       " 'MPC',\n",
       " 'MKTX',\n",
       " 'MAR',\n",
       " 'MMC',\n",
       " 'MLM',\n",
       " 'MAS',\n",
       " 'MA',\n",
       " 'MTCH',\n",
       " 'MKC',\n",
       " 'MCD',\n",
       " 'MCK',\n",
       " 'MDT',\n",
       " 'MRK',\n",
       " 'META',\n",
       " 'MET',\n",
       " 'MTD',\n",
       " 'MGM',\n",
       " 'MCHP',\n",
       " 'MU',\n",
       " 'MSFT',\n",
       " 'MAA',\n",
       " 'MRNA',\n",
       " 'MHK',\n",
       " 'MOH',\n",
       " 'TAP',\n",
       " 'MDLZ',\n",
       " 'MPWR',\n",
       " 'MNST',\n",
       " 'MCO',\n",
       " 'MS',\n",
       " 'MOS',\n",
       " 'MSI',\n",
       " 'MSCI',\n",
       " 'NDAQ',\n",
       " 'NTAP',\n",
       " 'NFLX',\n",
       " 'NEM',\n",
       " 'NWSA',\n",
       " 'NWS',\n",
       " 'NEE',\n",
       " 'NKE',\n",
       " 'NI',\n",
       " 'NDSN',\n",
       " 'NSC',\n",
       " 'NTRS',\n",
       " 'NOC',\n",
       " 'NCLH',\n",
       " 'NRG',\n",
       " 'NUE',\n",
       " 'NVDA',\n",
       " 'NVR',\n",
       " 'NXPI',\n",
       " 'ORLY',\n",
       " 'OXY',\n",
       " 'ODFL',\n",
       " 'OMC',\n",
       " 'ON',\n",
       " 'OKE',\n",
       " 'ORCL',\n",
       " 'OTIS',\n",
       " 'PCAR',\n",
       " 'PKG',\n",
       " 'PANW',\n",
       " 'PARA',\n",
       " 'PH',\n",
       " 'PAYX',\n",
       " 'PAYC',\n",
       " 'PYPL',\n",
       " 'PNR',\n",
       " 'PEP',\n",
       " 'PFE',\n",
       " 'PCG',\n",
       " 'PM',\n",
       " 'PSX',\n",
       " 'PNW',\n",
       " 'PXD',\n",
       " 'PNC',\n",
       " 'POOL',\n",
       " 'PPG',\n",
       " 'PPL',\n",
       " 'PFG',\n",
       " 'PG',\n",
       " 'PGR',\n",
       " 'PLD',\n",
       " 'PRU',\n",
       " 'PEG',\n",
       " 'PTC',\n",
       " 'PSA',\n",
       " 'PHM',\n",
       " 'QRVO',\n",
       " 'PWR',\n",
       " 'QCOM',\n",
       " 'DGX',\n",
       " 'RL',\n",
       " 'RJF',\n",
       " 'RTX',\n",
       " 'O',\n",
       " 'REG',\n",
       " 'REGN',\n",
       " 'RF',\n",
       " 'RSG',\n",
       " 'RMD',\n",
       " 'RVTY',\n",
       " 'RHI',\n",
       " 'ROK',\n",
       " 'ROL',\n",
       " 'ROP',\n",
       " 'ROST',\n",
       " 'RCL',\n",
       " 'SPGI',\n",
       " 'CRM',\n",
       " 'SBAC',\n",
       " 'SLB',\n",
       " 'STX',\n",
       " 'SRE',\n",
       " 'NOW',\n",
       " 'SHW',\n",
       " 'SPG',\n",
       " 'SWKS',\n",
       " 'SJM',\n",
       " 'SNA',\n",
       " 'SO',\n",
       " 'LUV',\n",
       " 'SWK',\n",
       " 'SBUX',\n",
       " 'STT',\n",
       " 'STLD',\n",
       " 'STE',\n",
       " 'SYK',\n",
       " 'SMCI',\n",
       " 'SYF',\n",
       " 'SNPS',\n",
       " 'SYY',\n",
       " 'TMUS',\n",
       " 'TROW',\n",
       " 'TTWO',\n",
       " 'TPR',\n",
       " 'TRGP',\n",
       " 'TGT',\n",
       " 'TEL',\n",
       " 'TDY',\n",
       " 'TFX',\n",
       " 'TER',\n",
       " 'TSLA',\n",
       " 'TXN',\n",
       " 'TXT',\n",
       " 'TMO',\n",
       " 'TJX',\n",
       " 'TSCO',\n",
       " 'TT',\n",
       " 'TDG',\n",
       " 'TRV',\n",
       " 'TRMB',\n",
       " 'TFC',\n",
       " 'TYL',\n",
       " 'TSN',\n",
       " 'USB',\n",
       " 'UBER',\n",
       " 'UDR',\n",
       " 'ULTA',\n",
       " 'UNP',\n",
       " 'UAL',\n",
       " 'UPS',\n",
       " 'URI',\n",
       " 'UNH',\n",
       " 'UHS',\n",
       " 'VLO',\n",
       " 'VTR',\n",
       " 'VLTO',\n",
       " 'VRSN',\n",
       " 'VRSK',\n",
       " 'VZ',\n",
       " 'VRTX',\n",
       " 'VFC',\n",
       " 'VTRS',\n",
       " 'VICI',\n",
       " 'V',\n",
       " 'VMC',\n",
       " 'WRB',\n",
       " 'WAB',\n",
       " 'WBA',\n",
       " 'WMT',\n",
       " 'DIS',\n",
       " 'WBD',\n",
       " 'WM',\n",
       " 'WAT',\n",
       " 'WEC',\n",
       " 'WFC',\n",
       " 'WELL',\n",
       " 'WST',\n",
       " 'WDC',\n",
       " 'WRK',\n",
       " 'WY',\n",
       " 'WMB',\n",
       " 'WTW',\n",
       " 'GWW',\n",
       " 'WYNN',\n",
       " 'XEL',\n",
       " 'XYL',\n",
       " 'YUM',\n",
       " 'ZBRA',\n",
       " 'ZBH',\n",
       " 'ZTS']"
      ]
     },
     "execution_count": 6,
     "metadata": {},
     "output_type": "execute_result"
    }
   ],
   "source": [
    "sp500.tolist()"
   ]
  },
  {
   "cell_type": "code",
   "execution_count": 8,
   "id": "52f92c74-9f89-44e6-b2ac-301477bcc814",
   "metadata": {},
   "outputs": [
    {
     "name": "stderr",
     "output_type": "stream",
     "text": [
      "[*********************100%%**********************]  503 of 503 completed\n",
      "\n",
      "2 Failed downloads:\n",
      "['BRK.B']: Exception('%ticker%: No timezone found, symbol may be delisted')\n",
      "['BF.B']: Exception('%ticker%: No price data found, symbol may be delisted (1d 2020-01-01 -> 2024-03-30)')\n"
     ]
    }
   ],
   "source": [
    "dfr = yf.download(sp500.tolist(), start='2020-01-01')['Close']"
   ]
  },
  {
   "cell_type": "code",
   "execution_count": 9,
   "id": "7de58bf8-4b43-4fba-86a5-3d78effd4825",
   "metadata": {},
   "outputs": [
    {
     "data": {
      "text/plain": [
       "(1067, 503)"
      ]
     },
     "execution_count": 9,
     "metadata": {},
     "output_type": "execute_result"
    }
   ],
   "source": [
    "dfr.shape"
   ]
  },
  {
   "cell_type": "code",
   "execution_count": 13,
   "id": "54bb175d-6052-42e1-9442-7e1ead556ea2",
   "metadata": {},
   "outputs": [
    {
     "data": {
      "text/plain": [
       "(1067, 494)"
      ]
     },
     "execution_count": 13,
     "metadata": {},
     "output_type": "execute_result"
    }
   ],
   "source": [
    "df=dfr.dropna(axis='rows', thresh=50).dropna(axis='columns', how='any')\n",
    "df.shape"
   ]
  },
  {
   "cell_type": "code",
   "execution_count": 17,
   "id": "4a1a2bae-f650-4674-b4e8-8119fb3fc67d",
   "metadata": {},
   "outputs": [
    {
     "data": {
      "text/html": [
       "<div>\n",
       "<style scoped>\n",
       "    .dataframe tbody tr th:only-of-type {\n",
       "        vertical-align: middle;\n",
       "    }\n",
       "\n",
       "    .dataframe tbody tr th {\n",
       "        vertical-align: top;\n",
       "    }\n",
       "\n",
       "    .dataframe thead th {\n",
       "        text-align: right;\n",
       "    }\n",
       "</style>\n",
       "<table border=\"1\" class=\"dataframe\">\n",
       "  <thead>\n",
       "    <tr style=\"text-align: right;\">\n",
       "      <th>Ticker</th>\n",
       "      <th>A</th>\n",
       "      <th>AAL</th>\n",
       "      <th>AAPL</th>\n",
       "      <th>ABBV</th>\n",
       "      <th>ABT</th>\n",
       "      <th>ACGL</th>\n",
       "      <th>ACN</th>\n",
       "      <th>ADBE</th>\n",
       "      <th>ADI</th>\n",
       "      <th>ADM</th>\n",
       "      <th>...</th>\n",
       "      <th>WY</th>\n",
       "      <th>WYNN</th>\n",
       "      <th>XEL</th>\n",
       "      <th>XOM</th>\n",
       "      <th>XRAY</th>\n",
       "      <th>XYL</th>\n",
       "      <th>YUM</th>\n",
       "      <th>ZBH</th>\n",
       "      <th>ZBRA</th>\n",
       "      <th>ZTS</th>\n",
       "    </tr>\n",
       "    <tr>\n",
       "      <th>Date</th>\n",
       "      <th></th>\n",
       "      <th></th>\n",
       "      <th></th>\n",
       "      <th></th>\n",
       "      <th></th>\n",
       "      <th></th>\n",
       "      <th></th>\n",
       "      <th></th>\n",
       "      <th></th>\n",
       "      <th></th>\n",
       "      <th></th>\n",
       "      <th></th>\n",
       "      <th></th>\n",
       "      <th></th>\n",
       "      <th></th>\n",
       "      <th></th>\n",
       "      <th></th>\n",
       "      <th></th>\n",
       "      <th></th>\n",
       "      <th></th>\n",
       "      <th></th>\n",
       "    </tr>\n",
       "  </thead>\n",
       "  <tbody>\n",
       "    <tr>\n",
       "      <th>2023-12-05</th>\n",
       "      <td>127.879997</td>\n",
       "      <td>13.13</td>\n",
       "      <td>193.419998</td>\n",
       "      <td>144.570007</td>\n",
       "      <td>104.349998</td>\n",
       "      <td>81.849998</td>\n",
       "      <td>335.829987</td>\n",
       "      <td>602.219971</td>\n",
       "      <td>180.630005</td>\n",
       "      <td>74.139999</td>\n",
       "      <td>...</td>\n",
       "      <td>31.290001</td>\n",
       "      <td>82.209999</td>\n",
       "      <td>61.029999</td>\n",
       "      <td>100.440002</td>\n",
       "      <td>32.18</td>\n",
       "      <td>105.790001</td>\n",
       "      <td>124.379997</td>\n",
       "      <td>115.820000</td>\n",
       "      <td>234.360001</td>\n",
       "      <td>179.649994</td>\n",
       "    </tr>\n",
       "    <tr>\n",
       "      <th>2021-12-23</th>\n",
       "      <td>157.800003</td>\n",
       "      <td>18.26</td>\n",
       "      <td>176.279999</td>\n",
       "      <td>133.089996</td>\n",
       "      <td>139.160004</td>\n",
       "      <td>43.480000</td>\n",
       "      <td>403.309998</td>\n",
       "      <td>569.619995</td>\n",
       "      <td>172.660004</td>\n",
       "      <td>65.440002</td>\n",
       "      <td>...</td>\n",
       "      <td>38.639999</td>\n",
       "      <td>88.879997</td>\n",
       "      <td>66.610001</td>\n",
       "      <td>61.020000</td>\n",
       "      <td>55.43</td>\n",
       "      <td>117.500000</td>\n",
       "      <td>135.339996</td>\n",
       "      <td>123.291260</td>\n",
       "      <td>582.409973</td>\n",
       "      <td>242.509995</td>\n",
       "    </tr>\n",
       "    <tr>\n",
       "      <th>2021-07-13</th>\n",
       "      <td>149.270004</td>\n",
       "      <td>20.02</td>\n",
       "      <td>145.639999</td>\n",
       "      <td>117.910004</td>\n",
       "      <td>118.650002</td>\n",
       "      <td>37.540001</td>\n",
       "      <td>312.630005</td>\n",
       "      <td>605.010010</td>\n",
       "      <td>167.259995</td>\n",
       "      <td>59.240002</td>\n",
       "      <td>...</td>\n",
       "      <td>34.610001</td>\n",
       "      <td>111.550003</td>\n",
       "      <td>67.580002</td>\n",
       "      <td>60.880001</td>\n",
       "      <td>62.00</td>\n",
       "      <td>120.769997</td>\n",
       "      <td>117.089996</td>\n",
       "      <td>152.466019</td>\n",
       "      <td>533.619995</td>\n",
       "      <td>199.309998</td>\n",
       "    </tr>\n",
       "  </tbody>\n",
       "</table>\n",
       "<p>3 rows × 494 columns</p>\n",
       "</div>"
      ],
      "text/plain": [
       "Ticker               A    AAL        AAPL        ABBV         ABT       ACGL  \\\n",
       "Date                                                                           \n",
       "2023-12-05  127.879997  13.13  193.419998  144.570007  104.349998  81.849998   \n",
       "2021-12-23  157.800003  18.26  176.279999  133.089996  139.160004  43.480000   \n",
       "2021-07-13  149.270004  20.02  145.639999  117.910004  118.650002  37.540001   \n",
       "\n",
       "Ticker             ACN        ADBE         ADI        ADM  ...         WY  \\\n",
       "Date                                                       ...              \n",
       "2023-12-05  335.829987  602.219971  180.630005  74.139999  ...  31.290001   \n",
       "2021-12-23  403.309998  569.619995  172.660004  65.440002  ...  38.639999   \n",
       "2021-07-13  312.630005  605.010010  167.259995  59.240002  ...  34.610001   \n",
       "\n",
       "Ticker            WYNN        XEL         XOM   XRAY         XYL         YUM  \\\n",
       "Date                                                                           \n",
       "2023-12-05   82.209999  61.029999  100.440002  32.18  105.790001  124.379997   \n",
       "2021-12-23   88.879997  66.610001   61.020000  55.43  117.500000  135.339996   \n",
       "2021-07-13  111.550003  67.580002   60.880001  62.00  120.769997  117.089996   \n",
       "\n",
       "Ticker             ZBH        ZBRA         ZTS  \n",
       "Date                                            \n",
       "2023-12-05  115.820000  234.360001  179.649994  \n",
       "2021-12-23  123.291260  582.409973  242.509995  \n",
       "2021-07-13  152.466019  533.619995  199.309998  \n",
       "\n",
       "[3 rows x 494 columns]"
      ]
     },
     "execution_count": 17,
     "metadata": {},
     "output_type": "execute_result"
    }
   ],
   "source": [
    "df.sample(3)"
   ]
  },
  {
   "cell_type": "code",
   "execution_count": 60,
   "id": "5d3b13a1-e15b-4d5e-980a-93168f2213af",
   "metadata": {},
   "outputs": [
    {
     "data": {
      "text/plain": [
       "' μ,Σ '"
      ]
     },
     "execution_count": 60,
     "metadata": {},
     "output_type": "execute_result"
    }
   ],
   "source": [
    "' \\N{GREEK small LETTER mu},\\N{GREEK CAPITAL LETTER SIGMA} '\n"
   ]
  },
  {
   "cell_type": "code",
   "execution_count": 58,
   "id": "eff77455-2ca8-4d14-8298-903e60ff9fac",
   "metadata": {},
   "outputs": [],
   "source": [
    "μ = expected_returns.mean_historical_return(df)\n",
    "Σ = risk_models.sample_cov(df)\n"
   ]
  },
  {
   "cell_type": "code",
   "execution_count": null,
   "id": "ee5d436d-81c2-4608-bc96-6b12ce71a482",
   "metadata": {},
   "outputs": [],
   "source": []
  },
  {
   "cell_type": "code",
   "execution_count": 148,
   "id": "67697890-7b94-427e-8001-65988ac58104",
   "metadata": {},
   "outputs": [],
   "source": [
    "μ = expected_returns.ema_historical_return(df)\n",
    "# Σ = risk_models.semicovariance(df)\n",
    "Σ = risk_models.CovarianceShrinkage(df,).S\n"
   ]
  },
  {
   "cell_type": "code",
   "execution_count": 149,
   "id": "b159af98-9dd7-4365-8cad-3ed168d71d47",
   "metadata": {},
   "outputs": [
    {
     "data": {
      "text/plain": [
       "0.23340079973405198"
      ]
     },
     "execution_count": 149,
     "metadata": {},
     "output_type": "execute_result"
    }
   ],
   "source": [
    "μ.mean()"
   ]
  },
  {
   "cell_type": "code",
   "execution_count": 150,
   "id": "f47c0f9e-37af-4424-a863-ae857a1d3eaa",
   "metadata": {},
   "outputs": [
    {
     "name": "stdout",
     "output_type": "stream",
     "text": [
      "Expected annual return: 30.0%\n",
      "Annual volatility: 0.9%\n",
      "Sharpe Ratio: 30.92\n"
     ]
    }
   ],
   "source": [
    "ef = EfficientFrontier(μ,Σ)\n",
    "weights = ef.efficient_return(.3)\n",
    "# weights = ef.efficient_risk(.12)\n",
    "weights = ef.clean_weights(cutoff=.02)\n",
    "ef.portfolio_performance(verbose=True);"
   ]
  },
  {
   "cell_type": "code",
   "execution_count": 151,
   "id": "3e366493-5993-4332-823f-c7b6bbcaf6a0",
   "metadata": {},
   "outputs": [
    {
     "name": "stdout",
     "output_type": "stream",
     "text": [
      "Expected annual return: 28.9%\n",
      "Annual volatility: 0.8%\n",
      "Sharpe Ratio: 32.26\n"
     ]
    }
   ],
   "source": [
    "ef.set_weights(weights)\n",
    "ef.portfolio_performance(verbose=True);"
   ]
  },
  {
   "cell_type": "code",
   "execution_count": 152,
   "id": "a38c0871-f867-4576-8475-59084333b2eb",
   "metadata": {},
   "outputs": [],
   "source": [
    "weights={k:v for k,v in weights.items() if v>0}"
   ]
  },
  {
   "cell_type": "code",
   "execution_count": 153,
   "id": "01cc8db0-d763-49ec-acaf-24e34302abcd",
   "metadata": {},
   "outputs": [],
   "source": [
    "wnames = {name(k):v for k,v in weights.items()}"
   ]
  },
  {
   "cell_type": "code",
   "execution_count": 154,
   "id": "0545ed26-495d-494b-98d7-7671de58160d",
   "metadata": {},
   "outputs": [
    {
     "data": {
      "image/png": "[encoded data removed]",
      "text/plain": [
       "<Figure size 640x480 with 1 Axes>"
      ]
     },
     "metadata": {},
     "output_type": "display_data"
    }
   ],
   "source": [
    "plotting.plot_weights(wnames,);"
   ]
  },
  {
   "cell_type": "code",
   "execution_count": 119,
   "id": "b6c5bfc0-e896-4362-b56e-021d23f6fcae",
   "metadata": {},
   "outputs": [
    {
     "data": {
      "text/plain": [
       "'Johnson & Johnson'"
      ]
     },
     "execution_count": 119,
     "metadata": {},
     "output_type": "execute_result"
    }
   ],
   "source": [
    "def name(sym):\n",
    "    return yf.Ticker(sym).get_info()['shortName']\n",
    "name('jnj')"
   ]
  },
  {
   "cell_type": "code",
   "execution_count": 65,
   "id": "d1fbae8a-cae3-49c1-bcc7-f24adf051df9",
   "metadata": {},
   "outputs": [
    {
     "data": {
      "image/png": "[encoded data removed]",
      "text/plain": [
       "<Figure size 640x480 with 1 Axes>"
      ]
     },
     "metadata": {},
     "output_type": "display_data"
    }
   ],
   "source": [
    "plotting.plot_efficient_frontier(\n",
    "    EfficientFrontier(mu, S), \n",
    "    show_tickers=True\n",
    ");"
   ]
  },
  {
   "cell_type": "code",
   "execution_count": 37,
   "id": "e36476e6-6559-4e27-91d5-7a97f2e0efa9",
   "metadata": {},
   "outputs": [
    {
     "data": {
      "text/plain": [
       "0.03945203410328839"
      ]
     },
     "execution_count": 37,
     "metadata": {},
     "output_type": "execute_result"
    }
   ],
   "source": [
    "(pd.Series(weights)*mu).sum()"
   ]
  },
  {
   "cell_type": "code",
   "execution_count": 40,
   "id": "02431859-c264-4b31-8d58-a8b917d83737",
   "metadata": {},
   "outputs": [
    {
     "data": {
      "text/plain": [
       "0.9999999999999991"
      ]
     },
     "execution_count": 40,
     "metadata": {},
     "output_type": "execute_result"
    }
   ],
   "source": [
    "sum(weights.values())"
   ]
  },
  {
   "cell_type": "code",
   "execution_count": 41,
   "id": "2e1aa6db-143a-4406-bf60-d106f7691b0e",
   "metadata": {},
   "outputs": [
    {
     "data": {
      "text/plain": [
       "0.09466686009904841"
      ]
     },
     "execution_count": 41,
     "metadata": {},
     "output_type": "execute_result"
    }
   ],
   "source": [
    "mu.mean()"
   ]
  },
  {
   "cell_type": "code",
   "execution_count": null,
   "id": "984b6c2f-ea4b-4d52-bb6c-b32a0874246a",
   "metadata": {},
   "outputs": [],
   "source": []
  }
 ],
 "metadata": {
  "kernelspec": {
   "display_name": "Python [conda env:port]",
   "language": "python",
   "name": "conda-env-port-py"
  },
  "language_info": {
   "codemirror_mode": {
    "name": "ipython",
    "version": 3
   },
   "file_extension": ".py",
   "mimetype": "text/x-python",
   "name": "python",
   "nbconvert_exporter": "python",
   "pygments_lexer": "ipython3",
   "version": "3.11.8"
  }
 },
 "nbformat": 4,
 "nbformat_minor": 5
}
